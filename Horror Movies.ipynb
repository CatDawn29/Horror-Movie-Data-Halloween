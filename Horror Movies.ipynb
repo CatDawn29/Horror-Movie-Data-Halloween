{
 "cells": [
  {
   "cell_type": "markdown",
   "id": "aeaac279",
   "metadata": {},
   "source": [
    "# Imports Section"
   ]
  },
  {
   "cell_type": "code",
   "execution_count": 1,
   "id": "dbb8f176",
   "metadata": {},
   "outputs": [],
   "source": [
    "import pandas as pd\n",
    "import numpy as np\n",
    "import seaborn as sns\n",
    "from matplotlib.ticker import FuncFormatter\n",
    "import matplotlib.ticker as ticker\n",
    "from sklearn.preprocessing import OneHotEncoder\n",
    "from sklearn.impute import SimpleImputer\n",
    "from sklearn.compose import make_column_transformer, make_column_selector\n",
    "from sklearn.pipeline import make_pipeline\n",
    "from sklearn.model_selection import train_test_split\n",
    "import matplotlib.pyplot as plt\n",
    "from sklearn.tree import DecisionTreeRegressor\n",
    "from sklearn import set_config\n",
    "from sklearn.preprocessing import StandardScaler\n",
    "import matplotlib as mpl\n",
    "from sklearn.datasets import fetch_california_housing\n",
    "from sklearn.linear_model import LinearRegression\n",
    "from sklearn.metrics import mean_absolute_error, mean_squared_error, r2_score\n",
    "set_config(display='diagram')\n",
    "scaler = StandardScaler()\n",
    "reg = LinearRegression()\n",
    "reg_pipe = make_pipeline(scaler, reg)\n",
    "import matplotlib.pyplot as plt"
   ]
  },
  {
   "cell_type": "code",
   "execution_count": 2,
   "id": "7a9b9a5b",
   "metadata": {},
   "outputs": [],
   "source": [
    "pd.set_option('display.float_format',lambda x:f\"{x:,.2f}\")\n",
    "sns.set_context('notebook', font_scale=0.9)\n",
    "plt.style.use(['ggplot'])"
   ]
  },
  {
   "cell_type": "code",
   "execution_count": 3,
   "id": "caf1c7ae",
   "metadata": {},
   "outputs": [
    {
     "data": {
      "text/html": [
       "<div>\n",
       "<style scoped>\n",
       "    .dataframe tbody tr th:only-of-type {\n",
       "        vertical-align: middle;\n",
       "    }\n",
       "\n",
       "    .dataframe tbody tr th {\n",
       "        vertical-align: top;\n",
       "    }\n",
       "\n",
       "    .dataframe thead th {\n",
       "        text-align: right;\n",
       "    }\n",
       "</style>\n",
       "<table border=\"1\" class=\"dataframe\">\n",
       "  <thead>\n",
       "    <tr style=\"text-align: right;\">\n",
       "      <th></th>\n",
       "      <th>Unnamed: 0</th>\n",
       "      <th>release_date</th>\n",
       "      <th>movie</th>\n",
       "      <th>production_budget</th>\n",
       "      <th>domestic_gross</th>\n",
       "      <th>worldwide_gross</th>\n",
       "      <th>distributor</th>\n",
       "      <th>mpaa_rating</th>\n",
       "      <th>genre</th>\n",
       "    </tr>\n",
       "  </thead>\n",
       "  <tbody>\n",
       "    <tr>\n",
       "      <th>0</th>\n",
       "      <td>1</td>\n",
       "      <td>6/22/2007</td>\n",
       "      <td>Evan Almighty</td>\n",
       "      <td>175,000,000.00</td>\n",
       "      <td>100,289,690.00</td>\n",
       "      <td>174,131,329.00</td>\n",
       "      <td>Universal</td>\n",
       "      <td>PG</td>\n",
       "      <td>Comedy</td>\n",
       "    </tr>\n",
       "    <tr>\n",
       "      <th>1</th>\n",
       "      <td>2</td>\n",
       "      <td>7/28/1995</td>\n",
       "      <td>Waterworld</td>\n",
       "      <td>175,000,000.00</td>\n",
       "      <td>88,246,220.00</td>\n",
       "      <td>264,246,220.00</td>\n",
       "      <td>Universal</td>\n",
       "      <td>PG-13</td>\n",
       "      <td>Action</td>\n",
       "    </tr>\n",
       "    <tr>\n",
       "      <th>2</th>\n",
       "      <td>3</td>\n",
       "      <td>5/12/2017</td>\n",
       "      <td>King Arthur: Legend of the Sword</td>\n",
       "      <td>175,000,000.00</td>\n",
       "      <td>39,175,066.00</td>\n",
       "      <td>139,950,708.00</td>\n",
       "      <td>Warner Bros.</td>\n",
       "      <td>PG-13</td>\n",
       "      <td>Adventure</td>\n",
       "    </tr>\n",
       "    <tr>\n",
       "      <th>3</th>\n",
       "      <td>4</td>\n",
       "      <td>12/25/2013</td>\n",
       "      <td>47 Ronin</td>\n",
       "      <td>175,000,000.00</td>\n",
       "      <td>38,362,475.00</td>\n",
       "      <td>151,716,815.00</td>\n",
       "      <td>Universal</td>\n",
       "      <td>PG-13</td>\n",
       "      <td>Action</td>\n",
       "    </tr>\n",
       "    <tr>\n",
       "      <th>4</th>\n",
       "      <td>5</td>\n",
       "      <td>6/22/2018</td>\n",
       "      <td>Jurassic World: Fallen Kingdom</td>\n",
       "      <td>170,000,000.00</td>\n",
       "      <td>416,769,345.00</td>\n",
       "      <td>1,304,866,322.00</td>\n",
       "      <td>Universal</td>\n",
       "      <td>PG-13</td>\n",
       "      <td>Action</td>\n",
       "    </tr>\n",
       "  </tbody>\n",
       "</table>\n",
       "</div>"
      ],
      "text/plain": [
       "   Unnamed: 0 release_date                             movie  \\\n",
       "0           1    6/22/2007                     Evan Almighty   \n",
       "1           2    7/28/1995                        Waterworld   \n",
       "2           3    5/12/2017  King Arthur: Legend of the Sword   \n",
       "3           4   12/25/2013                          47 Ronin   \n",
       "4           5    6/22/2018    Jurassic World: Fallen Kingdom   \n",
       "\n",
       "   production_budget  domestic_gross  worldwide_gross   distributor  \\\n",
       "0     175,000,000.00  100,289,690.00   174,131,329.00     Universal   \n",
       "1     175,000,000.00   88,246,220.00   264,246,220.00     Universal   \n",
       "2     175,000,000.00   39,175,066.00   139,950,708.00  Warner Bros.   \n",
       "3     175,000,000.00   38,362,475.00   151,716,815.00     Universal   \n",
       "4     170,000,000.00  416,769,345.00 1,304,866,322.00     Universal   \n",
       "\n",
       "  mpaa_rating      genre  \n",
       "0          PG     Comedy  \n",
       "1       PG-13     Action  \n",
       "2       PG-13  Adventure  \n",
       "3       PG-13     Action  \n",
       "4       PG-13     Action  "
      ]
     },
     "execution_count": 3,
     "metadata": {},
     "output_type": "execute_result"
    }
   ],
   "source": [
    "m_df = pd.read_csv('movie_profit.csv')\n",
    "m_df.head()"
   ]
  },
  {
   "cell_type": "code",
   "execution_count": 4,
   "id": "584eccea",
   "metadata": {},
   "outputs": [
    {
     "name": "stdout",
     "output_type": "stream",
     "text": [
      "<class 'pandas.core.frame.DataFrame'>\n",
      "RangeIndex: 3401 entries, 0 to 3400\n",
      "Data columns (total 9 columns):\n",
      " #   Column             Non-Null Count  Dtype  \n",
      "---  ------             --------------  -----  \n",
      " 0   Unnamed: 0         3401 non-null   int64  \n",
      " 1   release_date       3401 non-null   object \n",
      " 2   movie              3401 non-null   object \n",
      " 3   production_budget  3401 non-null   float64\n",
      " 4   domestic_gross     3401 non-null   float64\n",
      " 5   worldwide_gross    3401 non-null   float64\n",
      " 6   distributor        3353 non-null   object \n",
      " 7   mpaa_rating        3264 non-null   object \n",
      " 8   genre              3401 non-null   object \n",
      "dtypes: float64(3), int64(1), object(5)\n",
      "memory usage: 239.3+ KB\n"
     ]
    }
   ],
   "source": [
    "m_df.info()"
   ]
  },
  {
   "cell_type": "markdown",
   "id": "1088469e",
   "metadata": {},
   "source": [
    "# Data Cleaning "
   ]
  },
  {
   "cell_type": "code",
   "execution_count": 5,
   "id": "e5a94052",
   "metadata": {},
   "outputs": [
    {
     "data": {
      "text/plain": [
       "(3401, 9)"
      ]
     },
     "execution_count": 5,
     "metadata": {},
     "output_type": "execute_result"
    }
   ],
   "source": [
    "m_df.shape"
   ]
  },
  {
   "cell_type": "code",
   "execution_count": 6,
   "id": "61005761",
   "metadata": {},
   "outputs": [
    {
     "data": {
      "text/plain": [
       "Unnamed: 0             int64\n",
       "release_date          object\n",
       "movie                 object\n",
       "production_budget    float64\n",
       "domestic_gross       float64\n",
       "worldwide_gross      float64\n",
       "distributor           object\n",
       "mpaa_rating           object\n",
       "genre                 object\n",
       "dtype: object"
      ]
     },
     "execution_count": 6,
     "metadata": {},
     "output_type": "execute_result"
    }
   ],
   "source": [
    "m_df.dtypes"
   ]
  },
  {
   "cell_type": "code",
   "execution_count": 7,
   "id": "b73178a7",
   "metadata": {},
   "outputs": [
    {
     "data": {
      "text/html": [
       "<div>\n",
       "<style scoped>\n",
       "    .dataframe tbody tr th:only-of-type {\n",
       "        vertical-align: middle;\n",
       "    }\n",
       "\n",
       "    .dataframe tbody tr th {\n",
       "        vertical-align: top;\n",
       "    }\n",
       "\n",
       "    .dataframe thead th {\n",
       "        text-align: right;\n",
       "    }\n",
       "</style>\n",
       "<table border=\"1\" class=\"dataframe\">\n",
       "  <thead>\n",
       "    <tr style=\"text-align: right;\">\n",
       "      <th></th>\n",
       "      <th>release_date</th>\n",
       "      <th>movie</th>\n",
       "      <th>production_budget</th>\n",
       "      <th>domestic_gross</th>\n",
       "      <th>worldwide_gross</th>\n",
       "      <th>distributor</th>\n",
       "      <th>mpaa_rating</th>\n",
       "      <th>genre</th>\n",
       "    </tr>\n",
       "  </thead>\n",
       "  <tbody>\n",
       "    <tr>\n",
       "      <th>0</th>\n",
       "      <td>6/22/2007</td>\n",
       "      <td>Evan Almighty</td>\n",
       "      <td>175,000,000.00</td>\n",
       "      <td>100,289,690.00</td>\n",
       "      <td>174,131,329.00</td>\n",
       "      <td>Universal</td>\n",
       "      <td>PG</td>\n",
       "      <td>Comedy</td>\n",
       "    </tr>\n",
       "    <tr>\n",
       "      <th>1</th>\n",
       "      <td>7/28/1995</td>\n",
       "      <td>Waterworld</td>\n",
       "      <td>175,000,000.00</td>\n",
       "      <td>88,246,220.00</td>\n",
       "      <td>264,246,220.00</td>\n",
       "      <td>Universal</td>\n",
       "      <td>PG-13</td>\n",
       "      <td>Action</td>\n",
       "    </tr>\n",
       "    <tr>\n",
       "      <th>2</th>\n",
       "      <td>5/12/2017</td>\n",
       "      <td>King Arthur: Legend of the Sword</td>\n",
       "      <td>175,000,000.00</td>\n",
       "      <td>39,175,066.00</td>\n",
       "      <td>139,950,708.00</td>\n",
       "      <td>Warner Bros.</td>\n",
       "      <td>PG-13</td>\n",
       "      <td>Adventure</td>\n",
       "    </tr>\n",
       "    <tr>\n",
       "      <th>3</th>\n",
       "      <td>12/25/2013</td>\n",
       "      <td>47 Ronin</td>\n",
       "      <td>175,000,000.00</td>\n",
       "      <td>38,362,475.00</td>\n",
       "      <td>151,716,815.00</td>\n",
       "      <td>Universal</td>\n",
       "      <td>PG-13</td>\n",
       "      <td>Action</td>\n",
       "    </tr>\n",
       "    <tr>\n",
       "      <th>4</th>\n",
       "      <td>6/22/2018</td>\n",
       "      <td>Jurassic World: Fallen Kingdom</td>\n",
       "      <td>170,000,000.00</td>\n",
       "      <td>416,769,345.00</td>\n",
       "      <td>1,304,866,322.00</td>\n",
       "      <td>Universal</td>\n",
       "      <td>PG-13</td>\n",
       "      <td>Action</td>\n",
       "    </tr>\n",
       "  </tbody>\n",
       "</table>\n",
       "</div>"
      ],
      "text/plain": [
       "  release_date                             movie  production_budget  \\\n",
       "0    6/22/2007                     Evan Almighty     175,000,000.00   \n",
       "1    7/28/1995                        Waterworld     175,000,000.00   \n",
       "2    5/12/2017  King Arthur: Legend of the Sword     175,000,000.00   \n",
       "3   12/25/2013                          47 Ronin     175,000,000.00   \n",
       "4    6/22/2018    Jurassic World: Fallen Kingdom     170,000,000.00   \n",
       "\n",
       "   domestic_gross  worldwide_gross   distributor mpaa_rating      genre  \n",
       "0  100,289,690.00   174,131,329.00     Universal          PG     Comedy  \n",
       "1   88,246,220.00   264,246,220.00     Universal       PG-13     Action  \n",
       "2   39,175,066.00   139,950,708.00  Warner Bros.       PG-13  Adventure  \n",
       "3   38,362,475.00   151,716,815.00     Universal       PG-13     Action  \n",
       "4  416,769,345.00 1,304,866,322.00     Universal       PG-13     Action  "
      ]
     },
     "execution_count": 7,
     "metadata": {},
     "output_type": "execute_result"
    }
   ],
   "source": [
    "m_df.drop(columns = [\"Unnamed: 0\"], inplace = True)\n",
    "m_df.head()"
   ]
  },
  {
   "cell_type": "code",
   "execution_count": 8,
   "id": "c3a409a5",
   "metadata": {},
   "outputs": [
    {
     "data": {
      "text/plain": [
       "1"
      ]
     },
     "execution_count": 8,
     "metadata": {},
     "output_type": "execute_result"
    }
   ],
   "source": [
    "m_df.duplicated().sum()"
   ]
  },
  {
   "cell_type": "code",
   "execution_count": 9,
   "id": "799d8359",
   "metadata": {},
   "outputs": [
    {
     "data": {
      "text/plain": [
       "0"
      ]
     },
     "execution_count": 9,
     "metadata": {},
     "output_type": "execute_result"
    }
   ],
   "source": [
    "m_df.drop_duplicates(inplace = True)\n",
    "m_df.duplicated().sum()"
   ]
  },
  {
   "cell_type": "code",
   "execution_count": 10,
   "id": "61eaa303",
   "metadata": {},
   "outputs": [
    {
     "data": {
      "text/plain": [
       "release_date           0\n",
       "movie                  0\n",
       "production_budget      0\n",
       "domestic_gross         0\n",
       "worldwide_gross        0\n",
       "distributor           47\n",
       "mpaa_rating          137\n",
       "genre                  0\n",
       "dtype: int64"
      ]
     },
     "execution_count": 10,
     "metadata": {},
     "output_type": "execute_result"
    }
   ],
   "source": [
    "m_df.isna().sum()"
   ]
  },
  {
   "cell_type": "code",
   "execution_count": 11,
   "id": "824f0897",
   "metadata": {
    "scrolled": true
   },
   "outputs": [
    {
     "data": {
      "text/html": [
       "<div>\n",
       "<style scoped>\n",
       "    .dataframe tbody tr th:only-of-type {\n",
       "        vertical-align: middle;\n",
       "    }\n",
       "\n",
       "    .dataframe tbody tr th {\n",
       "        vertical-align: top;\n",
       "    }\n",
       "\n",
       "    .dataframe thead th {\n",
       "        text-align: right;\n",
       "    }\n",
       "</style>\n",
       "<table border=\"1\" class=\"dataframe\">\n",
       "  <thead>\n",
       "    <tr style=\"text-align: right;\">\n",
       "      <th></th>\n",
       "      <th>production_budget</th>\n",
       "      <th>domestic_gross</th>\n",
       "      <th>worldwide_gross</th>\n",
       "    </tr>\n",
       "  </thead>\n",
       "  <tbody>\n",
       "    <tr>\n",
       "      <th>count</th>\n",
       "      <td>3,400.00</td>\n",
       "      <td>3,400.00</td>\n",
       "      <td>3,400.00</td>\n",
       "    </tr>\n",
       "    <tr>\n",
       "      <th>mean</th>\n",
       "      <td>33,293,356.40</td>\n",
       "      <td>45,435,114.84</td>\n",
       "      <td>94,131,357.02</td>\n",
       "    </tr>\n",
       "    <tr>\n",
       "      <th>std</th>\n",
       "      <td>34,893,906.72</td>\n",
       "      <td>58,829,182.42</td>\n",
       "      <td>140,935,786.64</td>\n",
       "    </tr>\n",
       "    <tr>\n",
       "      <th>min</th>\n",
       "      <td>250,000.00</td>\n",
       "      <td>0.00</td>\n",
       "      <td>0.00</td>\n",
       "    </tr>\n",
       "    <tr>\n",
       "      <th>25%</th>\n",
       "      <td>9,000,000.00</td>\n",
       "      <td>6,124,348.50</td>\n",
       "      <td>10,616,440.00</td>\n",
       "    </tr>\n",
       "    <tr>\n",
       "      <th>50%</th>\n",
       "      <td>20,000,000.00</td>\n",
       "      <td>25,534,155.50</td>\n",
       "      <td>40,163,987.00</td>\n",
       "    </tr>\n",
       "    <tr>\n",
       "      <th>75%</th>\n",
       "      <td>45,000,000.00</td>\n",
       "      <td>60,357,124.00</td>\n",
       "      <td>117,661,408.25</td>\n",
       "    </tr>\n",
       "    <tr>\n",
       "      <th>max</th>\n",
       "      <td>175,000,000.00</td>\n",
       "      <td>474,544,677.00</td>\n",
       "      <td>1,304,866,322.00</td>\n",
       "    </tr>\n",
       "  </tbody>\n",
       "</table>\n",
       "</div>"
      ],
      "text/plain": [
       "       production_budget  domestic_gross  worldwide_gross\n",
       "count           3,400.00        3,400.00         3,400.00\n",
       "mean       33,293,356.40   45,435,114.84    94,131,357.02\n",
       "std        34,893,906.72   58,829,182.42   140,935,786.64\n",
       "min           250,000.00            0.00             0.00\n",
       "25%         9,000,000.00    6,124,348.50    10,616,440.00\n",
       "50%        20,000,000.00   25,534,155.50    40,163,987.00\n",
       "75%        45,000,000.00   60,357,124.00   117,661,408.25\n",
       "max       175,000,000.00  474,544,677.00 1,304,866,322.00"
      ]
     },
     "execution_count": 11,
     "metadata": {},
     "output_type": "execute_result"
    }
   ],
   "source": [
    "m_df.describe().round(2)"
   ]
  },
  {
   "cell_type": "markdown",
   "id": "f4666888",
   "metadata": {},
   "source": [
    "# Exploratory Visuals"
   ]
  },
  {
   "cell_type": "code",
   "execution_count": 12,
   "id": "42df3070",
   "metadata": {},
   "outputs": [
    {
     "data": {
      "image/png": "[encoded data removed]",
      "text/plain": [
       "<Figure size 640x480 with 1 Axes>"
      ]
     },
     "metadata": {},
     "output_type": "display_data"
    }
   ],
   "source": [
    "m_df['production_budget'].hist();"
   ]
  },
  {
   "cell_type": "code",
   "execution_count": 13,
   "id": "92917828",
   "metadata": {},
   "outputs": [
    {
     "data": {
      "image/png": "[encoded data removed]",
      "text/plain": [
       "<Figure size 640x480 with 1 Axes>"
      ]
     },
     "metadata": {},
     "output_type": "display_data"
    }
   ],
   "source": [
    "m_df['domestic_gross'].hist();"
   ]
  },
  {
   "cell_type": "code",
   "execution_count": 14,
   "id": "bbc8738f",
   "metadata": {},
   "outputs": [
    {
     "data": {
      "image/png": "[encoded data removed]",
      "text/plain": [
       "<Figure size 640x480 with 1 Axes>"
      ]
     },
     "metadata": {},
     "output_type": "display_data"
    }
   ],
   "source": [
    "m_df['worldwide_gross'].hist();"
   ]
  },
  {
   "cell_type": "markdown",
   "id": "b7110250",
   "metadata": {},
   "source": [
    "## **Explantory Visuals**"
   ]
  },
  {
   "cell_type": "code",
   "execution_count": 15,
   "id": "3ea821f9",
   "metadata": {},
   "outputs": [],
   "source": [
    "domestic = m_df['domestic_gross'].value_counts()"
   ]
  },
  {
   "cell_type": "code",
   "execution_count": null,
   "id": "f2b04778",
   "metadata": {},
   "outputs": [
    {
     "name": "stdout",
     "output_type": "stream",
     "text": [
      "Error in callback <function flush_figures at 0x000001E099540550> (for post_execute):\n"
     ]
    }
   ],
   "source": [
    "ax = sns.countplot(data = m_df, x = 'domestic_gross');\n",
    "ax.set_title('domestic_gross', fontsize=20)\n",
    "ax.set_ylabel('Percentage', fontsize=20)\n",
    "ax.set_xlabel(\"Dollars\", fontsize=20)\n",
    "ax.grid()"
   ]
  },
  {
   "cell_type": "code",
   "execution_count": null,
   "id": "5d14f6c9",
   "metadata": {},
   "outputs": [],
   "source": []
  }
 ],
 "metadata": {
  "kernelspec": {
   "display_name": "Python (dojo-env)",
   "language": "python",
   "name": "dojo-env"
  },
  "language_info": {
   "codemirror_mode": {
    "name": "ipython",
    "version": 3
   },
   "file_extension": ".py",
   "mimetype": "text/x-python",
   "name": "python",
   "nbconvert_exporter": "python",
   "pygments_lexer": "ipython3",
   "version": "3.9.15"
  },
  "toc": {
   "base_numbering": 1,
   "nav_menu": {},
   "number_sections": true,
   "sideBar": true,
   "skip_h1_title": false,
   "title_cell": "Table of Contents",
   "title_sidebar": "Contents",
   "toc_cell": false,
   "toc_position": {},
   "toc_section_display": true,
   "toc_window_display": false
  }
 },
 "nbformat": 4,
 "nbformat_minor": 5
}
